{
 "cells": [
  {
   "cell_type": "markdown",
   "id": "e27ab17f",
   "metadata": {},
   "source": [
    "## Assignment 3.2: Using Data to Improve MLB Attendance"
   ]
  },
  {
   "cell_type": "markdown",
   "id": "0cc8f292",
   "metadata": {},
   "source": [
    "The below will outline the use of historical Dodgers attendance based off several variables (skies, opponents, shirt, fireworks and etc) to identify and determine a recommendation to Dodger's management on how to improve attendance to their games. As for any dataset, exploratory data analysis will be utilized to do preliminary data assessments and cleaning. Since this dataset contains multiple categorical data, dummy variables will be created. "
   ]
  },
  {
   "cell_type": "code",
   "execution_count": 92,
   "id": "0742fbef",
   "metadata": {},
   "outputs": [],
   "source": [
    "# Importaing Basic Packages\n",
    "import pandas as pd\n",
    "import numpy as np\n",
    "import matplotlib.pyplot as plt\n",
    "import seaborn as sns\n",
    "from sklearn.linear_model import LinearRegression\n",
    "from sklearn import linear_model"
   ]
  },
  {
   "cell_type": "code",
   "execution_count": 2,
   "id": "5c67e9dc",
   "metadata": {},
   "outputs": [],
   "source": [
    "# Importing Dataset to Dataframe\n",
    "df = pd.read_csv('dodgers-2022.csv')"
   ]
  },
  {
   "cell_type": "code",
   "execution_count": 3,
   "id": "5269b54a",
   "metadata": {},
   "outputs": [
    {
     "data": {
      "text/html": [
       "<div>\n",
       "<style scoped>\n",
       "    .dataframe tbody tr th:only-of-type {\n",
       "        vertical-align: middle;\n",
       "    }\n",
       "\n",
       "    .dataframe tbody tr th {\n",
       "        vertical-align: top;\n",
       "    }\n",
       "\n",
       "    .dataframe thead th {\n",
       "        text-align: right;\n",
       "    }\n",
       "</style>\n",
       "<table border=\"1\" class=\"dataframe\">\n",
       "  <thead>\n",
       "    <tr style=\"text-align: right;\">\n",
       "      <th></th>\n",
       "      <th>month</th>\n",
       "      <th>day</th>\n",
       "      <th>attend</th>\n",
       "      <th>day_of_week</th>\n",
       "      <th>opponent</th>\n",
       "      <th>temp</th>\n",
       "      <th>skies</th>\n",
       "      <th>day_night</th>\n",
       "      <th>cap</th>\n",
       "      <th>shirt</th>\n",
       "      <th>fireworks</th>\n",
       "      <th>bobblehead</th>\n",
       "    </tr>\n",
       "  </thead>\n",
       "  <tbody>\n",
       "    <tr>\n",
       "      <th>0</th>\n",
       "      <td>APR</td>\n",
       "      <td>10</td>\n",
       "      <td>56000</td>\n",
       "      <td>Tuesday</td>\n",
       "      <td>Pirates</td>\n",
       "      <td>67</td>\n",
       "      <td>Clear</td>\n",
       "      <td>Day</td>\n",
       "      <td>NO</td>\n",
       "      <td>NO</td>\n",
       "      <td>NO</td>\n",
       "      <td>NO</td>\n",
       "    </tr>\n",
       "    <tr>\n",
       "      <th>1</th>\n",
       "      <td>APR</td>\n",
       "      <td>11</td>\n",
       "      <td>29729</td>\n",
       "      <td>Wednesday</td>\n",
       "      <td>Pirates</td>\n",
       "      <td>58</td>\n",
       "      <td>Cloudy</td>\n",
       "      <td>Night</td>\n",
       "      <td>NO</td>\n",
       "      <td>NO</td>\n",
       "      <td>NO</td>\n",
       "      <td>NO</td>\n",
       "    </tr>\n",
       "    <tr>\n",
       "      <th>2</th>\n",
       "      <td>APR</td>\n",
       "      <td>12</td>\n",
       "      <td>28328</td>\n",
       "      <td>Thursday</td>\n",
       "      <td>Pirates</td>\n",
       "      <td>57</td>\n",
       "      <td>Cloudy</td>\n",
       "      <td>Night</td>\n",
       "      <td>NO</td>\n",
       "      <td>NO</td>\n",
       "      <td>NO</td>\n",
       "      <td>NO</td>\n",
       "    </tr>\n",
       "    <tr>\n",
       "      <th>3</th>\n",
       "      <td>APR</td>\n",
       "      <td>13</td>\n",
       "      <td>31601</td>\n",
       "      <td>Friday</td>\n",
       "      <td>Padres</td>\n",
       "      <td>54</td>\n",
       "      <td>Cloudy</td>\n",
       "      <td>Night</td>\n",
       "      <td>NO</td>\n",
       "      <td>NO</td>\n",
       "      <td>YES</td>\n",
       "      <td>NO</td>\n",
       "    </tr>\n",
       "    <tr>\n",
       "      <th>4</th>\n",
       "      <td>APR</td>\n",
       "      <td>14</td>\n",
       "      <td>46549</td>\n",
       "      <td>Saturday</td>\n",
       "      <td>Padres</td>\n",
       "      <td>57</td>\n",
       "      <td>Cloudy</td>\n",
       "      <td>Night</td>\n",
       "      <td>NO</td>\n",
       "      <td>NO</td>\n",
       "      <td>NO</td>\n",
       "      <td>NO</td>\n",
       "    </tr>\n",
       "  </tbody>\n",
       "</table>\n",
       "</div>"
      ],
      "text/plain": [
       "  month  day  attend day_of_week opponent  temp   skies day_night cap shirt  \\\n",
       "0   APR   10   56000     Tuesday  Pirates    67  Clear        Day  NO    NO   \n",
       "1   APR   11   29729   Wednesday  Pirates    58  Cloudy     Night  NO    NO   \n",
       "2   APR   12   28328    Thursday  Pirates    57  Cloudy     Night  NO    NO   \n",
       "3   APR   13   31601      Friday   Padres    54  Cloudy     Night  NO    NO   \n",
       "4   APR   14   46549    Saturday   Padres    57  Cloudy     Night  NO    NO   \n",
       "\n",
       "  fireworks bobblehead  \n",
       "0        NO         NO  \n",
       "1        NO         NO  \n",
       "2        NO         NO  \n",
       "3       YES         NO  \n",
       "4        NO         NO  "
      ]
     },
     "execution_count": 3,
     "metadata": {},
     "output_type": "execute_result"
    }
   ],
   "source": [
    "# Top 5 rows and column headers\n",
    "df.head()"
   ]
  },
  {
   "cell_type": "code",
   "execution_count": 4,
   "id": "49ce1d27",
   "metadata": {},
   "outputs": [
    {
     "data": {
      "text/plain": [
       "(81, 12)"
      ]
     },
     "execution_count": 4,
     "metadata": {},
     "output_type": "execute_result"
    }
   ],
   "source": [
    "# Rows and Columns of dataset\n",
    "df.shape"
   ]
  },
  {
   "cell_type": "code",
   "execution_count": 5,
   "id": "01b73923",
   "metadata": {},
   "outputs": [
    {
     "data": {
      "text/plain": [
       "month          object\n",
       "day             int64\n",
       "attend          int64\n",
       "day_of_week    object\n",
       "opponent       object\n",
       "temp            int64\n",
       "skies          object\n",
       "day_night      object\n",
       "cap            object\n",
       "shirt          object\n",
       "fireworks      object\n",
       "bobblehead     object\n",
       "dtype: object"
      ]
     },
     "execution_count": 5,
     "metadata": {},
     "output_type": "execute_result"
    }
   ],
   "source": [
    "# Data Types of columns\n",
    "df.dtypes"
   ]
  },
  {
   "cell_type": "code",
   "execution_count": 6,
   "id": "1ceeb864",
   "metadata": {},
   "outputs": [
    {
     "data": {
      "text/html": [
       "<div>\n",
       "<style scoped>\n",
       "    .dataframe tbody tr th:only-of-type {\n",
       "        vertical-align: middle;\n",
       "    }\n",
       "\n",
       "    .dataframe tbody tr th {\n",
       "        vertical-align: top;\n",
       "    }\n",
       "\n",
       "    .dataframe thead th {\n",
       "        text-align: right;\n",
       "    }\n",
       "</style>\n",
       "<table border=\"1\" class=\"dataframe\">\n",
       "  <thead>\n",
       "    <tr style=\"text-align: right;\">\n",
       "      <th></th>\n",
       "      <th>day</th>\n",
       "      <th>attend</th>\n",
       "      <th>temp</th>\n",
       "    </tr>\n",
       "  </thead>\n",
       "  <tbody>\n",
       "    <tr>\n",
       "      <th>count</th>\n",
       "      <td>81.000000</td>\n",
       "      <td>81.000000</td>\n",
       "      <td>81.000000</td>\n",
       "    </tr>\n",
       "    <tr>\n",
       "      <th>mean</th>\n",
       "      <td>16.135802</td>\n",
       "      <td>41040.074074</td>\n",
       "      <td>73.148148</td>\n",
       "    </tr>\n",
       "    <tr>\n",
       "      <th>std</th>\n",
       "      <td>9.605666</td>\n",
       "      <td>8297.539460</td>\n",
       "      <td>8.317318</td>\n",
       "    </tr>\n",
       "    <tr>\n",
       "      <th>min</th>\n",
       "      <td>1.000000</td>\n",
       "      <td>24312.000000</td>\n",
       "      <td>54.000000</td>\n",
       "    </tr>\n",
       "    <tr>\n",
       "      <th>25%</th>\n",
       "      <td>8.000000</td>\n",
       "      <td>34493.000000</td>\n",
       "      <td>67.000000</td>\n",
       "    </tr>\n",
       "    <tr>\n",
       "      <th>50%</th>\n",
       "      <td>15.000000</td>\n",
       "      <td>40284.000000</td>\n",
       "      <td>73.000000</td>\n",
       "    </tr>\n",
       "    <tr>\n",
       "      <th>75%</th>\n",
       "      <td>25.000000</td>\n",
       "      <td>46588.000000</td>\n",
       "      <td>79.000000</td>\n",
       "    </tr>\n",
       "    <tr>\n",
       "      <th>max</th>\n",
       "      <td>31.000000</td>\n",
       "      <td>56000.000000</td>\n",
       "      <td>95.000000</td>\n",
       "    </tr>\n",
       "  </tbody>\n",
       "</table>\n",
       "</div>"
      ],
      "text/plain": [
       "             day        attend       temp\n",
       "count  81.000000     81.000000  81.000000\n",
       "mean   16.135802  41040.074074  73.148148\n",
       "std     9.605666   8297.539460   8.317318\n",
       "min     1.000000  24312.000000  54.000000\n",
       "25%     8.000000  34493.000000  67.000000\n",
       "50%    15.000000  40284.000000  73.000000\n",
       "75%    25.000000  46588.000000  79.000000\n",
       "max    31.000000  56000.000000  95.000000"
      ]
     },
     "execution_count": 6,
     "metadata": {},
     "output_type": "execute_result"
    }
   ],
   "source": [
    "# Statistics of numercal data\n",
    "df.describe()"
   ]
  },
  {
   "cell_type": "code",
   "execution_count": 8,
   "id": "4c5ff1af",
   "metadata": {},
   "outputs": [
    {
     "data": {
      "text/plain": [
       "month          0\n",
       "day            0\n",
       "attend         0\n",
       "day_of_week    0\n",
       "opponent       0\n",
       "temp           0\n",
       "skies          0\n",
       "day_night      0\n",
       "cap            0\n",
       "shirt          0\n",
       "fireworks      0\n",
       "bobblehead     0\n",
       "dtype: int64"
      ]
     },
     "execution_count": 8,
     "metadata": {},
     "output_type": "execute_result"
    }
   ],
   "source": [
    "# Looking for Nulls in the dataset\n",
    "df.isna().sum()"
   ]
  },
  {
   "cell_type": "code",
   "execution_count": 40,
   "id": "ce676c65",
   "metadata": {
    "scrolled": false
   },
   "outputs": [
    {
     "data": {
      "image/png": "[encoded data removed]",
      "text/plain": [
       "<Figure size 864x432 with 1 Axes>"
      ]
     },
     "metadata": {
      "needs_background": "light"
     },
     "output_type": "display_data"
    }
   ],
   "source": [
    "# Creating a BoxPlot to see distribution amongst Day of the Week and Attendance\n",
    "fig, ax = plt.subplots(figsize=(12, 6))\n",
    "sns.boxplot(x = df['day_of_week'],\n",
    "            y = df['attend']).set(title='Day of Week And Attendance BoxPlot')\n",
    "ax.set_xticklabels(ax.get_xticklabels(), rotation=45, horizontalalignment='right')\n",
    "plt.show()"
   ]
  },
  {
   "cell_type": "raw",
   "id": "1283cf65",
   "metadata": {},
   "source": [
    "The above shows a box and whisker plot of attendance with relation to the days of the week. Most dominant day of the week is Tuesday as it shows a higher Q1 to Q3 (interquartile range) than any other day of the week. It also shows a higher median of attendance and highest maximum out of all the days of the week. One great suggest to management would be to schedule more games on a Tuesday. "
   ]
  },
  {
   "cell_type": "code",
   "execution_count": 42,
   "id": "e0520f1c",
   "metadata": {},
   "outputs": [
    {
     "data": {
      "image/png": "[encoded data removed]",
      "text/plain": [
       "<Figure size 864x432 with 1 Axes>"
      ]
     },
     "metadata": {
      "needs_background": "light"
     },
     "output_type": "display_data"
    }
   ],
   "source": [
    "# Creating a BoxPlot to see distribution amongst Month and Attendance\n",
    "fig, ax = plt.subplots(figsize=(12, 6))\n",
    "sns.boxplot(x = df['month'],\n",
    "            y = df['attend']).set(title='Month And Attendance BoxPlot')\n",
    "ax.set_xticklabels(ax.get_xticklabels(), rotation=45, horizontalalignment='right')\n",
    "plt.show()"
   ]
  },
  {
   "cell_type": "markdown",
   "id": "9fed0802",
   "metadata": {},
   "source": [
    "The above shows a box and whisker plot of attendance with relation to the Month. June and July (Summer Months) show the highest attendance. This makes sense since those who attend have kids that are on summer vacation, and this is a great activity. April has a very high median in relation to July and this can be since the MLB season is just starting, and people are excited to go see games again after several months of hiatus. A recommendation would be to schedule more games in June and July as this will increase attendnace. "
   ]
  },
  {
   "cell_type": "code",
   "execution_count": 41,
   "id": "cbdaea37",
   "metadata": {},
   "outputs": [
    {
     "data": {
      "image/png": "[encoded data removed]",
      "text/plain": [
       "<Figure size 864x432 with 1 Axes>"
      ]
     },
     "metadata": {
      "needs_background": "light"
     },
     "output_type": "display_data"
    }
   ],
   "source": [
    "# Creating a BoxPlot to see distribution amongst Opponent and Attendance\n",
    "fig, ax = plt.subplots(figsize=(12, 6))\n",
    "sns.boxplot(x = df['opponent'],\n",
    "            y = df['attend']).set(title='Opponent And Attendance BoxPlot')\n",
    "ax.set_xticklabels(ax.get_xticklabels(), rotation=45, horizontalalignment='right')\n",
    "plt.show()\n"
   ]
  },
  {
   "cell_type": "markdown",
   "id": "b4dcbdd5",
   "metadata": {},
   "source": [
    "The above shows a boxplot of all the opponents that the Dodger's had and its attendance. It is evident that when the Angels play, there is a higher attendance rate. The reasoning of this could be that both the Angels and the Dodgers are from the exact same city, Los Angeles. This brings out the competitiveness of individuals in the same city to come out and show support to the team they favor the most. A recommendation would be to schedule more games between Angels and Dodgers. I am shock to see that the Giants don't have a great attendance rate. The reason is that in MLB, the dodgers biggest historical rival has always been the Giants. "
   ]
  },
  {
   "cell_type": "code",
   "execution_count": 52,
   "id": "1a03e09d",
   "metadata": {},
   "outputs": [],
   "source": [
    "# Creating Dummy Variables for Categorical Varibles, Yes = 1 No = 0\n",
    "\n",
    "df2 = pd.get_dummies(df, columns = ['cap', 'shirt', 'fireworks', 'bobblehead'], drop_first = True)"
   ]
  },
  {
   "cell_type": "code",
   "execution_count": 53,
   "id": "c1691161",
   "metadata": {},
   "outputs": [
    {
     "data": {
      "text/html": [
       "<div>\n",
       "<style scoped>\n",
       "    .dataframe tbody tr th:only-of-type {\n",
       "        vertical-align: middle;\n",
       "    }\n",
       "\n",
       "    .dataframe tbody tr th {\n",
       "        vertical-align: top;\n",
       "    }\n",
       "\n",
       "    .dataframe thead th {\n",
       "        text-align: right;\n",
       "    }\n",
       "</style>\n",
       "<table border=\"1\" class=\"dataframe\">\n",
       "  <thead>\n",
       "    <tr style=\"text-align: right;\">\n",
       "      <th></th>\n",
       "      <th>month</th>\n",
       "      <th>day</th>\n",
       "      <th>attend</th>\n",
       "      <th>day_of_week</th>\n",
       "      <th>opponent</th>\n",
       "      <th>temp</th>\n",
       "      <th>skies</th>\n",
       "      <th>day_night</th>\n",
       "      <th>cap_YES</th>\n",
       "      <th>shirt_YES</th>\n",
       "      <th>fireworks_YES</th>\n",
       "      <th>bobblehead_YES</th>\n",
       "    </tr>\n",
       "  </thead>\n",
       "  <tbody>\n",
       "    <tr>\n",
       "      <th>0</th>\n",
       "      <td>APR</td>\n",
       "      <td>10</td>\n",
       "      <td>56000</td>\n",
       "      <td>Tuesday</td>\n",
       "      <td>Pirates</td>\n",
       "      <td>67</td>\n",
       "      <td>Clear</td>\n",
       "      <td>Day</td>\n",
       "      <td>0</td>\n",
       "      <td>0</td>\n",
       "      <td>0</td>\n",
       "      <td>0</td>\n",
       "    </tr>\n",
       "    <tr>\n",
       "      <th>1</th>\n",
       "      <td>APR</td>\n",
       "      <td>11</td>\n",
       "      <td>29729</td>\n",
       "      <td>Wednesday</td>\n",
       "      <td>Pirates</td>\n",
       "      <td>58</td>\n",
       "      <td>Cloudy</td>\n",
       "      <td>Night</td>\n",
       "      <td>0</td>\n",
       "      <td>0</td>\n",
       "      <td>0</td>\n",
       "      <td>0</td>\n",
       "    </tr>\n",
       "    <tr>\n",
       "      <th>2</th>\n",
       "      <td>APR</td>\n",
       "      <td>12</td>\n",
       "      <td>28328</td>\n",
       "      <td>Thursday</td>\n",
       "      <td>Pirates</td>\n",
       "      <td>57</td>\n",
       "      <td>Cloudy</td>\n",
       "      <td>Night</td>\n",
       "      <td>0</td>\n",
       "      <td>0</td>\n",
       "      <td>0</td>\n",
       "      <td>0</td>\n",
       "    </tr>\n",
       "    <tr>\n",
       "      <th>3</th>\n",
       "      <td>APR</td>\n",
       "      <td>13</td>\n",
       "      <td>31601</td>\n",
       "      <td>Friday</td>\n",
       "      <td>Padres</td>\n",
       "      <td>54</td>\n",
       "      <td>Cloudy</td>\n",
       "      <td>Night</td>\n",
       "      <td>0</td>\n",
       "      <td>0</td>\n",
       "      <td>1</td>\n",
       "      <td>0</td>\n",
       "    </tr>\n",
       "    <tr>\n",
       "      <th>4</th>\n",
       "      <td>APR</td>\n",
       "      <td>14</td>\n",
       "      <td>46549</td>\n",
       "      <td>Saturday</td>\n",
       "      <td>Padres</td>\n",
       "      <td>57</td>\n",
       "      <td>Cloudy</td>\n",
       "      <td>Night</td>\n",
       "      <td>0</td>\n",
       "      <td>0</td>\n",
       "      <td>0</td>\n",
       "      <td>0</td>\n",
       "    </tr>\n",
       "  </tbody>\n",
       "</table>\n",
       "</div>"
      ],
      "text/plain": [
       "  month  day  attend day_of_week opponent  temp   skies day_night  cap_YES  \\\n",
       "0   APR   10   56000     Tuesday  Pirates    67  Clear        Day        0   \n",
       "1   APR   11   29729   Wednesday  Pirates    58  Cloudy     Night        0   \n",
       "2   APR   12   28328    Thursday  Pirates    57  Cloudy     Night        0   \n",
       "3   APR   13   31601      Friday   Padres    54  Cloudy     Night        0   \n",
       "4   APR   14   46549    Saturday   Padres    57  Cloudy     Night        0   \n",
       "\n",
       "   shirt_YES  fireworks_YES  bobblehead_YES  \n",
       "0          0              0               0  \n",
       "1          0              0               0  \n",
       "2          0              0               0  \n",
       "3          0              1               0  \n",
       "4          0              0               0  "
      ]
     },
     "execution_count": 53,
     "metadata": {},
     "output_type": "execute_result"
    }
   ],
   "source": [
    "df2.head()"
   ]
  },
  {
   "cell_type": "markdown",
   "id": "77df802a",
   "metadata": {},
   "source": [
    "The below will consist of multiple catplots in regards to free merchanise and specialty effects during the show and its attendance. "
   ]
  },
  {
   "cell_type": "code",
   "execution_count": 60,
   "id": "c4de6987",
   "metadata": {},
   "outputs": [
    {
     "data": {
      "text/plain": [
       "<seaborn.axisgrid.FacetGrid at 0x22f21a3f580>"
      ]
     },
     "execution_count": 60,
     "metadata": {},
     "output_type": "execute_result"
    },
    {
     "data": {
      "image/png": "[encoded data removed]",
      "text/plain": [
       "<Figure size 360x360 with 1 Axes>"
      ]
     },
     "metadata": {
      "needs_background": "light"
     },
     "output_type": "display_data"
    }
   ],
   "source": [
    "## Catplot + Swarm on Free Cap vs Attendance\n",
    "sns.catplot(data=df2, x=\"cap_YES\", y=\"attend\", hue=\"cap_YES\", kind=\"swarm\").set(title='Free Cap vs Attendance')"
   ]
  },
  {
   "cell_type": "code",
   "execution_count": 61,
   "id": "7d1cfd47",
   "metadata": {},
   "outputs": [
    {
     "data": {
      "text/plain": [
       "<seaborn.axisgrid.FacetGrid at 0x22f2050fc70>"
      ]
     },
     "execution_count": 61,
     "metadata": {},
     "output_type": "execute_result"
    },
    {
     "data": {
      "image/png": "[encoded data removed]",
      "text/plain": [
       "<Figure size 360x360 with 1 Axes>"
      ]
     },
     "metadata": {
      "needs_background": "light"
     },
     "output_type": "display_data"
    }
   ],
   "source": [
    "## Catplot + Swarm on Free Shirt vs Attendance\n",
    "sns.catplot(data=df2, x=\"shirt_YES\", y=\"attend\", hue=\"shirt_YES\", kind=\"swarm\").set(title='Free Shirt vs Attendance')"
   ]
  },
  {
   "cell_type": "code",
   "execution_count": 62,
   "id": "e2e435b9",
   "metadata": {},
   "outputs": [
    {
     "data": {
      "text/plain": [
       "<seaborn.axisgrid.FacetGrid at 0x22f205764c0>"
      ]
     },
     "execution_count": 62,
     "metadata": {},
     "output_type": "execute_result"
    },
    {
     "data": {
      "image/png": "[encoded data removed]",
      "text/plain": [
       "<Figure size 360x360 with 1 Axes>"
      ]
     },
     "metadata": {
      "needs_background": "light"
     },
     "output_type": "display_data"
    }
   ],
   "source": [
    "## Catplot + Swarm on Fireworks vs Attendance\n",
    "sns.catplot(data=df2, x=\"fireworks_YES\", y=\"attend\", hue=\"fireworks_YES\", kind=\"swarm\").set(title='Fireworks vs Attendance')"
   ]
  },
  {
   "cell_type": "code",
   "execution_count": 63,
   "id": "db7abb1f",
   "metadata": {},
   "outputs": [
    {
     "data": {
      "text/plain": [
       "<seaborn.axisgrid.FacetGrid at 0x22f21a40070>"
      ]
     },
     "execution_count": 63,
     "metadata": {},
     "output_type": "execute_result"
    },
    {
     "data": {
      "image/png": "[encoded data removed]",
      "text/plain": [
       "<Figure size 360x360 with 1 Axes>"
      ]
     },
     "metadata": {
      "needs_background": "light"
     },
     "output_type": "display_data"
    }
   ],
   "source": [
    "## Catplot + Swarm on Free Bobblehead vs Attendance\n",
    "sns.catplot(data=df2, x=\"bobblehead_YES\", y=\"attend\", hue=\"bobblehead_YES\", kind=\"swarm\").set(title='Free Bobblehead vs Attendance')"
   ]
  },
  {
   "cell_type": "markdown",
   "id": "a5d72ab9",
   "metadata": {},
   "source": [
    "For perspective of the above, anything with a 0 means No and 1 means Yes. The above shows four cat plot with swarm feature and its attendance for each variable. The free cap and free shirt plots are both statistically very low regarding when they are given thus any assumptions cannot be made. When fireworks are done during a post-game show, the distribution seems to be very neutral and again can be utilized to determine if more shows would increase attendance. However, whenever a free bobblehead is given during the game, attendance falls in the top 25% in comparison to when it is not given. Fans tends to go to games a lot more often when bobbleheads are given. "
   ]
  },
  {
   "cell_type": "code",
   "execution_count": 65,
   "id": "eba55fa7",
   "metadata": {},
   "outputs": [],
   "source": [
    "# Creating Linear Regression Model\n",
    "model = LinearRegression()"
   ]
  },
  {
   "cell_type": "code",
   "execution_count": null,
   "id": "a505a2a2",
   "metadata": {},
   "outputs": [],
   "source": [
    "# Identifying Variables\n",
    "x = df2['bobblehead_YES']"
   ]
  },
  {
   "cell_type": "code",
   "execution_count": 66,
   "id": "2a8986f5",
   "metadata": {},
   "outputs": [
    {
     "data": {
      "text/html": [
       "<div>\n",
       "<style scoped>\n",
       "    .dataframe tbody tr th:only-of-type {\n",
       "        vertical-align: middle;\n",
       "    }\n",
       "\n",
       "    .dataframe tbody tr th {\n",
       "        vertical-align: top;\n",
       "    }\n",
       "\n",
       "    .dataframe thead th {\n",
       "        text-align: right;\n",
       "    }\n",
       "</style>\n",
       "<table border=\"1\" class=\"dataframe\">\n",
       "  <thead>\n",
       "    <tr style=\"text-align: right;\">\n",
       "      <th></th>\n",
       "      <th>month</th>\n",
       "      <th>day</th>\n",
       "      <th>attend</th>\n",
       "      <th>day_of_week</th>\n",
       "      <th>opponent</th>\n",
       "      <th>temp</th>\n",
       "      <th>skies</th>\n",
       "      <th>day_night</th>\n",
       "      <th>cap_YES</th>\n",
       "      <th>shirt_YES</th>\n",
       "      <th>fireworks_YES</th>\n",
       "      <th>bobblehead_YES</th>\n",
       "    </tr>\n",
       "  </thead>\n",
       "  <tbody>\n",
       "    <tr>\n",
       "      <th>0</th>\n",
       "      <td>APR</td>\n",
       "      <td>10</td>\n",
       "      <td>56000</td>\n",
       "      <td>Tuesday</td>\n",
       "      <td>Pirates</td>\n",
       "      <td>67</td>\n",
       "      <td>Clear</td>\n",
       "      <td>Day</td>\n",
       "      <td>0</td>\n",
       "      <td>0</td>\n",
       "      <td>0</td>\n",
       "      <td>0</td>\n",
       "    </tr>\n",
       "    <tr>\n",
       "      <th>1</th>\n",
       "      <td>APR</td>\n",
       "      <td>11</td>\n",
       "      <td>29729</td>\n",
       "      <td>Wednesday</td>\n",
       "      <td>Pirates</td>\n",
       "      <td>58</td>\n",
       "      <td>Cloudy</td>\n",
       "      <td>Night</td>\n",
       "      <td>0</td>\n",
       "      <td>0</td>\n",
       "      <td>0</td>\n",
       "      <td>0</td>\n",
       "    </tr>\n",
       "    <tr>\n",
       "      <th>2</th>\n",
       "      <td>APR</td>\n",
       "      <td>12</td>\n",
       "      <td>28328</td>\n",
       "      <td>Thursday</td>\n",
       "      <td>Pirates</td>\n",
       "      <td>57</td>\n",
       "      <td>Cloudy</td>\n",
       "      <td>Night</td>\n",
       "      <td>0</td>\n",
       "      <td>0</td>\n",
       "      <td>0</td>\n",
       "      <td>0</td>\n",
       "    </tr>\n",
       "    <tr>\n",
       "      <th>3</th>\n",
       "      <td>APR</td>\n",
       "      <td>13</td>\n",
       "      <td>31601</td>\n",
       "      <td>Friday</td>\n",
       "      <td>Padres</td>\n",
       "      <td>54</td>\n",
       "      <td>Cloudy</td>\n",
       "      <td>Night</td>\n",
       "      <td>0</td>\n",
       "      <td>0</td>\n",
       "      <td>1</td>\n",
       "      <td>0</td>\n",
       "    </tr>\n",
       "    <tr>\n",
       "      <th>4</th>\n",
       "      <td>APR</td>\n",
       "      <td>14</td>\n",
       "      <td>46549</td>\n",
       "      <td>Saturday</td>\n",
       "      <td>Padres</td>\n",
       "      <td>57</td>\n",
       "      <td>Cloudy</td>\n",
       "      <td>Night</td>\n",
       "      <td>0</td>\n",
       "      <td>0</td>\n",
       "      <td>0</td>\n",
       "      <td>0</td>\n",
       "    </tr>\n",
       "    <tr>\n",
       "      <th>...</th>\n",
       "      <td>...</td>\n",
       "      <td>...</td>\n",
       "      <td>...</td>\n",
       "      <td>...</td>\n",
       "      <td>...</td>\n",
       "      <td>...</td>\n",
       "      <td>...</td>\n",
       "      <td>...</td>\n",
       "      <td>...</td>\n",
       "      <td>...</td>\n",
       "      <td>...</td>\n",
       "      <td>...</td>\n",
       "    </tr>\n",
       "    <tr>\n",
       "      <th>76</th>\n",
       "      <td>SEP</td>\n",
       "      <td>29</td>\n",
       "      <td>40724</td>\n",
       "      <td>Saturday</td>\n",
       "      <td>Rockies</td>\n",
       "      <td>84</td>\n",
       "      <td>Cloudy</td>\n",
       "      <td>Night</td>\n",
       "      <td>0</td>\n",
       "      <td>0</td>\n",
       "      <td>0</td>\n",
       "      <td>0</td>\n",
       "    </tr>\n",
       "    <tr>\n",
       "      <th>77</th>\n",
       "      <td>SEP</td>\n",
       "      <td>30</td>\n",
       "      <td>35607</td>\n",
       "      <td>Sunday</td>\n",
       "      <td>Rockies</td>\n",
       "      <td>95</td>\n",
       "      <td>Clear</td>\n",
       "      <td>Day</td>\n",
       "      <td>0</td>\n",
       "      <td>0</td>\n",
       "      <td>0</td>\n",
       "      <td>0</td>\n",
       "    </tr>\n",
       "    <tr>\n",
       "      <th>78</th>\n",
       "      <td>OCT</td>\n",
       "      <td>1</td>\n",
       "      <td>33624</td>\n",
       "      <td>Monday</td>\n",
       "      <td>Giants</td>\n",
       "      <td>86</td>\n",
       "      <td>Clear</td>\n",
       "      <td>Night</td>\n",
       "      <td>0</td>\n",
       "      <td>0</td>\n",
       "      <td>0</td>\n",
       "      <td>0</td>\n",
       "    </tr>\n",
       "    <tr>\n",
       "      <th>79</th>\n",
       "      <td>OCT</td>\n",
       "      <td>2</td>\n",
       "      <td>42473</td>\n",
       "      <td>Tuesday</td>\n",
       "      <td>Giants</td>\n",
       "      <td>83</td>\n",
       "      <td>Clear</td>\n",
       "      <td>Night</td>\n",
       "      <td>0</td>\n",
       "      <td>0</td>\n",
       "      <td>0</td>\n",
       "      <td>0</td>\n",
       "    </tr>\n",
       "    <tr>\n",
       "      <th>80</th>\n",
       "      <td>OCT</td>\n",
       "      <td>3</td>\n",
       "      <td>34014</td>\n",
       "      <td>Wednesday</td>\n",
       "      <td>Giants</td>\n",
       "      <td>82</td>\n",
       "      <td>Cloudy</td>\n",
       "      <td>Night</td>\n",
       "      <td>0</td>\n",
       "      <td>0</td>\n",
       "      <td>0</td>\n",
       "      <td>0</td>\n",
       "    </tr>\n",
       "  </tbody>\n",
       "</table>\n",
       "<p>81 rows × 12 columns</p>\n",
       "</div>"
      ],
      "text/plain": [
       "   month  day  attend day_of_week opponent  temp   skies day_night  cap_YES  \\\n",
       "0    APR   10   56000     Tuesday  Pirates    67  Clear        Day        0   \n",
       "1    APR   11   29729   Wednesday  Pirates    58  Cloudy     Night        0   \n",
       "2    APR   12   28328    Thursday  Pirates    57  Cloudy     Night        0   \n",
       "3    APR   13   31601      Friday   Padres    54  Cloudy     Night        0   \n",
       "4    APR   14   46549    Saturday   Padres    57  Cloudy     Night        0   \n",
       "..   ...  ...     ...         ...      ...   ...     ...       ...      ...   \n",
       "76   SEP   29   40724    Saturday  Rockies    84  Cloudy     Night        0   \n",
       "77   SEP   30   35607      Sunday  Rockies    95  Clear        Day        0   \n",
       "78   OCT    1   33624      Monday   Giants    86  Clear      Night        0   \n",
       "79   OCT    2   42473     Tuesday   Giants    83  Clear      Night        0   \n",
       "80   OCT    3   34014   Wednesday   Giants    82  Cloudy     Night        0   \n",
       "\n",
       "    shirt_YES  fireworks_YES  bobblehead_YES  \n",
       "0           0              0               0  \n",
       "1           0              0               0  \n",
       "2           0              0               0  \n",
       "3           0              1               0  \n",
       "4           0              0               0  \n",
       "..        ...            ...             ...  \n",
       "76          0              0               0  \n",
       "77          0              0               0  \n",
       "78          0              0               0  \n",
       "79          0              0               0  \n",
       "80          0              0               0  \n",
       "\n",
       "[81 rows x 12 columns]"
      ]
     },
     "execution_count": 66,
     "metadata": {},
     "output_type": "execute_result"
    }
   ],
   "source": [
    "df2"
   ]
  },
  {
   "cell_type": "code",
   "execution_count": 46,
   "id": "5a2e6992",
   "metadata": {},
   "outputs": [
    {
     "data": {
      "image/png": "[encoded data removed]",
      "text/plain": [
       "<Figure size 432x288 with 2 Axes>"
      ]
     },
     "metadata": {
      "needs_background": "light"
     },
     "output_type": "display_data"
    }
   ],
   "source": [
    "## Correlation amongst numerical variables -- outcome --> not much significance\n",
    "df2_corr = df2.iloc[:,:11]\n",
    "correlation_mat = df_corr.corr()\n",
    "sns.heatmap(correlation_mat, cmap=\"BuPu\", annot = True)\n",
    "plt.show()"
   ]
  },
  {
   "cell_type": "code",
   "execution_count": 86,
   "id": "39b608bc",
   "metadata": {},
   "outputs": [
    {
     "name": "stdout",
     "output_type": "stream",
     "text": [
      "53144.63636363636\n",
      "41040.07407407407\n"
     ]
    }
   ],
   "source": [
    "from statistics import mean\n",
    "mean_of_bobblehead = df2[df2['bobblehead_YES'] == 1] \n",
    "print(mean_of_bobblehead['attend'].mean())\n",
    "\n",
    "## Mean of Bobblehead  = 53,145.\n",
    "\n",
    "print(df2['attend'].mean())\n",
    "\n",
    "## Mean of Overall = 41,040. "
   ]
  },
  {
   "cell_type": "code",
   "execution_count": 81,
   "id": "cd706f1c",
   "metadata": {},
   "outputs": [
    {
     "data": {
      "text/html": [
       "<div>\n",
       "<style scoped>\n",
       "    .dataframe tbody tr th:only-of-type {\n",
       "        vertical-align: middle;\n",
       "    }\n",
       "\n",
       "    .dataframe tbody tr th {\n",
       "        vertical-align: top;\n",
       "    }\n",
       "\n",
       "    .dataframe thead th {\n",
       "        text-align: right;\n",
       "    }\n",
       "</style>\n",
       "<table border=\"1\" class=\"dataframe\">\n",
       "  <thead>\n",
       "    <tr style=\"text-align: right;\">\n",
       "      <th></th>\n",
       "      <th>month</th>\n",
       "      <th>day</th>\n",
       "      <th>attend</th>\n",
       "      <th>day_of_week</th>\n",
       "      <th>opponent</th>\n",
       "      <th>temp</th>\n",
       "      <th>skies</th>\n",
       "      <th>day_night</th>\n",
       "      <th>cap_YES</th>\n",
       "      <th>shirt_YES</th>\n",
       "      <th>fireworks_YES</th>\n",
       "      <th>bobblehead_YES</th>\n",
       "    </tr>\n",
       "  </thead>\n",
       "  <tbody>\n",
       "    <tr>\n",
       "      <th>0</th>\n",
       "      <td>APR</td>\n",
       "      <td>10</td>\n",
       "      <td>56000</td>\n",
       "      <td>Tuesday</td>\n",
       "      <td>Pirates</td>\n",
       "      <td>67</td>\n",
       "      <td>Clear</td>\n",
       "      <td>Day</td>\n",
       "      <td>0</td>\n",
       "      <td>0</td>\n",
       "      <td>0</td>\n",
       "      <td>0</td>\n",
       "    </tr>\n",
       "    <tr>\n",
       "      <th>1</th>\n",
       "      <td>APR</td>\n",
       "      <td>11</td>\n",
       "      <td>29729</td>\n",
       "      <td>Wednesday</td>\n",
       "      <td>Pirates</td>\n",
       "      <td>58</td>\n",
       "      <td>Cloudy</td>\n",
       "      <td>Night</td>\n",
       "      <td>0</td>\n",
       "      <td>0</td>\n",
       "      <td>0</td>\n",
       "      <td>0</td>\n",
       "    </tr>\n",
       "    <tr>\n",
       "      <th>2</th>\n",
       "      <td>APR</td>\n",
       "      <td>12</td>\n",
       "      <td>28328</td>\n",
       "      <td>Thursday</td>\n",
       "      <td>Pirates</td>\n",
       "      <td>57</td>\n",
       "      <td>Cloudy</td>\n",
       "      <td>Night</td>\n",
       "      <td>0</td>\n",
       "      <td>0</td>\n",
       "      <td>0</td>\n",
       "      <td>0</td>\n",
       "    </tr>\n",
       "    <tr>\n",
       "      <th>3</th>\n",
       "      <td>APR</td>\n",
       "      <td>13</td>\n",
       "      <td>31601</td>\n",
       "      <td>Friday</td>\n",
       "      <td>Padres</td>\n",
       "      <td>54</td>\n",
       "      <td>Cloudy</td>\n",
       "      <td>Night</td>\n",
       "      <td>0</td>\n",
       "      <td>0</td>\n",
       "      <td>1</td>\n",
       "      <td>0</td>\n",
       "    </tr>\n",
       "    <tr>\n",
       "      <th>4</th>\n",
       "      <td>APR</td>\n",
       "      <td>14</td>\n",
       "      <td>46549</td>\n",
       "      <td>Saturday</td>\n",
       "      <td>Padres</td>\n",
       "      <td>57</td>\n",
       "      <td>Cloudy</td>\n",
       "      <td>Night</td>\n",
       "      <td>0</td>\n",
       "      <td>0</td>\n",
       "      <td>0</td>\n",
       "      <td>0</td>\n",
       "    </tr>\n",
       "  </tbody>\n",
       "</table>\n",
       "</div>"
      ],
      "text/plain": [
       "  month  day  attend day_of_week opponent  temp   skies day_night  cap_YES  \\\n",
       "0   APR   10   56000     Tuesday  Pirates    67  Clear        Day        0   \n",
       "1   APR   11   29729   Wednesday  Pirates    58  Cloudy     Night        0   \n",
       "2   APR   12   28328    Thursday  Pirates    57  Cloudy     Night        0   \n",
       "3   APR   13   31601      Friday   Padres    54  Cloudy     Night        0   \n",
       "4   APR   14   46549    Saturday   Padres    57  Cloudy     Night        0   \n",
       "\n",
       "   shirt_YES  fireworks_YES  bobblehead_YES  \n",
       "0          0              0               0  \n",
       "1          0              0               0  \n",
       "2          0              0               0  \n",
       "3          0              1               0  \n",
       "4          0              0               0  "
      ]
     },
     "execution_count": 81,
     "metadata": {},
     "output_type": "execute_result"
    }
   ],
   "source": [
    "df2.head()"
   ]
  },
  {
   "cell_type": "code",
   "execution_count": 95,
   "id": "a5232135",
   "metadata": {},
   "outputs": [],
   "source": [
    "X = df2[['cap_YES', 'shirt_YES', 'fireworks_YES', 'bobblehead_YES']]\n",
    "y = df2['attend']"
   ]
  },
  {
   "cell_type": "code",
   "execution_count": 96,
   "id": "c0786cd0",
   "metadata": {},
   "outputs": [],
   "source": [
    "regr = linear_model.LinearRegression()"
   ]
  },
  {
   "cell_type": "code",
   "execution_count": 97,
   "id": "9ccf642c",
   "metadata": {},
   "outputs": [
    {
     "data": {
      "text/plain": [
       "LinearRegression()"
      ]
     },
     "execution_count": 97,
     "metadata": {},
     "output_type": "execute_result"
    }
   ],
   "source": [
    "regr.fit(X, y)"
   ]
  },
  {
   "cell_type": "code",
   "execution_count": 100,
   "id": "308ddc20",
   "metadata": {},
   "outputs": [
    {
     "name": "stdout",
     "output_type": "stream",
     "text": [
      "Intercept: \n",
      " 38201.07843137255\n",
      "Coefficients: \n",
      " [-1.15784314e+01  8.44258824e+03  2.87677871e+03  1.49435579e+04]\n"
     ]
    }
   ],
   "source": [
    "print('Intercept: \\n', regr.intercept_)\n",
    "print('Coefficients: \\n', regr.coef_)"
   ]
  },
  {
   "cell_type": "code",
   "execution_count": 101,
   "id": "08b2b904",
   "metadata": {},
   "outputs": [
    {
     "name": "stderr",
     "output_type": "stream",
     "text": [
      "C:\\Users\\qvant\\anaconda3\\lib\\site-packages\\statsmodels\\tsa\\tsatools.py:142: FutureWarning: In a future version of pandas all arguments of concat except for the argument 'objs' will be keyword-only\n",
      "  x = pd.concat(x[::order], 1)\n"
     ]
    }
   ],
   "source": [
    "x = sm.add_constant(x) # adding a constant"
   ]
  },
  {
   "cell_type": "code",
   "execution_count": 102,
   "id": "6554a59a",
   "metadata": {},
   "outputs": [
    {
     "name": "stdout",
     "output_type": "stream",
     "text": [
      "                            OLS Regression Results                            \n",
      "==============================================================================\n",
      "Dep. Variable:                 attend   R-squared:                       0.387\n",
      "Model:                            OLS   Adj. R-squared:                  0.355\n",
      "Method:                 Least Squares   F-statistic:                     12.01\n",
      "Date:                Tue, 13 Sep 2022   Prob (F-statistic):           1.29e-07\n",
      "Time:                        14:08:16   Log-Likelihood:                -825.51\n",
      "No. Observations:                  81   AIC:                             1661.\n",
      "Df Residuals:                      76   BIC:                             1673.\n",
      "Df Model:                           4                                         \n",
      "Covariance Type:            nonrobust                                         \n",
      "==================================================================================\n",
      "                     coef    std err          t      P>|t|      [0.025      0.975]\n",
      "----------------------------------------------------------------------------------\n",
      "const            3.82e+04    933.092     40.940      0.000    3.63e+04    4.01e+04\n",
      "cap_YES          -11.5784   4803.385     -0.002      0.998   -9578.349    9555.193\n",
      "shirt_YES       8442.5882   3958.774      2.133      0.036     558.006    1.63e+04\n",
      "fireworks_YES   2876.7787   2010.561      1.431      0.157   -1127.600    6881.157\n",
      "bobblehead_YES  1.494e+04   2215.256      6.746      0.000    1.05e+04    1.94e+04\n",
      "==============================================================================\n",
      "Omnibus:                        2.216   Durbin-Watson:                   1.979\n",
      "Prob(Omnibus):                  0.330   Jarque-Bera (JB):                1.632\n",
      "Skew:                           0.329   Prob(JB):                        0.442\n",
      "Kurtosis:                       3.226   Cond. No.                         6.70\n",
      "==============================================================================\n",
      "\n",
      "Notes:\n",
      "[1] Standard Errors assume that the covariance matrix of the errors is correctly specified.\n"
     ]
    }
   ],
   "source": [
    "model = sm.OLS(y, x).fit()\n",
    "predictions = model.predict(x) \n",
    " \n",
    "print_model = model.summary()\n",
    "print(print_model)"
   ]
  },
  {
   "cell_type": "markdown",
   "id": "da36eb59",
   "metadata": {},
   "source": [
    "There are some variables that I found that can increase attendance at Dodger games. The first few visuals that I created where box plots. These box plot shows that Tuesday + April, June and July has the highest median and if not attendance for those games. This suggests that we should schedule more games on this day and month. When I created a box plot of the opposing team that the Dodgers are facing, I noticed that the Dodgers stadium attendance are highest when they are facing the Angels. However, based off my major league baseball knowledge, this are all pre-determined dates and opponents thus we can’t really change much. The next key factor to investigate other variables such as free merchandise or stadium special effects. When I created cat plots of the swarm feature, I noticed that when bobbleheads were given away for free, attendance increased dramatically when no bobbleheads were given away. You can see this on the last to 2nd visual. When looking at the overall mean of attendance, it was a little over 12,000 more individuals who attended. The next step was to run a linear regression model on multiple variables to see if we can see any statistical abnormalities. When we run the coefficient, bobble_head_YES has the highest coefficient meaning as the variable increases, the attendance variable will also increase. "
   ]
  }
 ],
 "metadata": {
  "kernelspec": {
   "display_name": "Python 3 (ipykernel)",
   "language": "python",
   "name": "python3"
  },
  "language_info": {
   "codemirror_mode": {
    "name": "ipython",
    "version": 3
   },
   "file_extension": ".py",
   "mimetype": "text/x-python",
   "name": "python",
   "nbconvert_exporter": "python",
   "pygments_lexer": "ipython3",
   "version": "3.9.7"
  }
 },
 "nbformat": 4,
 "nbformat_minor": 5
}
